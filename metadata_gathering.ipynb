{
 "cells": [
  {
   "cell_type": "code",
   "execution_count": 1,
   "metadata": {},
   "outputs": [],
   "source": [
    "import os\n",
    "from os.path import join as jp\n",
    "\n",
    "import numpy as np\n",
    "import pandas as pd\n",
    "import matplotlib.pyplot as plt\n",
    "%matplotlib inline\n",
    "\n",
    "from dpipe.io import load"
   ]
  },
  {
   "cell_type": "markdown",
   "metadata": {},
   "source": [
    "# LapSRN"
   ]
  },
  {
   "cell_type": "code",
   "execution_count": 26,
   "metadata": {},
   "outputs": [],
   "source": [
    "# Manga109 is ok\n",
    "# BSDS100 is ok (mix)\n",
    "# Set5 is ok\n",
    "# Set14 is ok\n",
    "# Urban100 is ok \n",
    "# historical :: LR only"
   ]
  },
  {
   "cell_type": "code",
   "execution_count": 4,
   "metadata": {},
   "outputs": [],
   "source": [
    "lapsrn_path = '/gpfs/gpfs0/b.shirokikh/data/SR/LapSRN/testing_datasets/'"
   ]
  },
  {
   "cell_type": "code",
   "execution_count": 5,
   "metadata": {},
   "outputs": [
    {
     "data": {
      "text/plain": [
       "['BSDS100', 'Manga109', 'historical', 'Set14', 'Set5', 'Urban100']"
      ]
     },
     "execution_count": 5,
     "metadata": {},
     "output_type": "execute_result"
    }
   ],
   "source": [
    "os.listdir(lapsrn_path)"
   ]
  },
  {
   "cell_type": "code",
   "execution_count": 13,
   "metadata": {},
   "outputs": [],
   "source": [
    "for dataset_name in os.listdir(lapsrn_path):\n",
    "    data_path = jp(lapsrn_path, dataset_name)\n",
    "    \n",
    "    records = []\n",
    "    for i, fname in enumerate(os.listdir(data_path)):\n",
    "        _id = f'{dataset_name}_{i}'\n",
    "        records.append({'id': _id, 'image': fname})\n",
    "    images = pd.DataFrame.from_records(records, index='id')\n",
    "    images.to_csv(jp(data_path, 'images.csv'), index_label='id')"
   ]
  },
  {
   "cell_type": "markdown",
   "metadata": {},
   "source": [
    "# t91"
   ]
  },
  {
   "cell_type": "code",
   "execution_count": null,
   "metadata": {},
   "outputs": [],
   "source": [
    "# t91 is ok (grass/flowers/landscape)"
   ]
  },
  {
   "cell_type": "code",
   "execution_count": 28,
   "metadata": {},
   "outputs": [],
   "source": [
    "t91_path = '/gpfs/gpfs0/b.shirokikh/data/SR/t91'"
   ]
  },
  {
   "cell_type": "code",
   "execution_count": 42,
   "metadata": {},
   "outputs": [],
   "source": [
    "dataset_name = 't91'\n",
    "data_path = t91_path\n",
    "    \n",
    "records = []\n",
    "for i, fname in enumerate(os.listdir(data_path)):\n",
    "    _id = f'{dataset_name}_{i}'\n",
    "    records.append({'id': _id, 'image': fname})\n",
    "images = pd.DataFrame.from_records(records, index='id')\n",
    "images.to_csv(jp(data_path, 'images.csv'), index_label='id')"
   ]
  },
  {
   "cell_type": "markdown",
   "metadata": {},
   "source": [
    "# General_100"
   ]
  },
  {
   "cell_type": "code",
   "execution_count": null,
   "metadata": {},
   "outputs": [],
   "source": [
    "# General_100 is ok"
   ]
  },
  {
   "cell_type": "code",
   "execution_count": 4,
   "metadata": {},
   "outputs": [],
   "source": [
    "general100_path = '/gpfs/gpfs0/b.shirokikh/data/SR/General_100/'"
   ]
  },
  {
   "cell_type": "code",
   "execution_count": 5,
   "metadata": {},
   "outputs": [],
   "source": [
    "dataset_name = 'General_100'\n",
    "data_path = general100_path\n",
    "    \n",
    "records = []\n",
    "for i, fname in enumerate(os.listdir(data_path)):\n",
    "    _id = f'{dataset_name}_{i}'\n",
    "    records.append({'id': _id, 'image': fname})\n",
    "images = pd.DataFrame.from_records(records, index='id')\n",
    "images.to_csv(jp(data_path, 'images.csv'), index_label='id')"
   ]
  },
  {
   "cell_type": "markdown",
   "metadata": {},
   "source": [
    "# BSDS500"
   ]
  },
  {
   "cell_type": "code",
   "execution_count": null,
   "metadata": {},
   "outputs": [],
   "source": [
    "# BSDS500 (BSR/BSDS500/data) is ok"
   ]
  },
  {
   "cell_type": "code",
   "execution_count": 2,
   "metadata": {},
   "outputs": [],
   "source": [
    "bsds500_path = '/gpfs/gpfs0/b.shirokikh/data/SR/BSDS500/'"
   ]
  },
  {
   "cell_type": "code",
   "execution_count": 3,
   "metadata": {},
   "outputs": [],
   "source": [
    "dataset_name = 'BSDS500'\n",
    "data_path = bsds500_path\n",
    "    \n",
    "records = []\n",
    "for i, fname in enumerate(os.listdir(jp(data_path, 'images'))):\n",
    "    _id = f'{dataset_name}_{i}'\n",
    "    records.append({'id': _id, 'image': f'images/{fname}'})\n",
    "images = pd.DataFrame.from_records(records, index='id')\n",
    "images.to_csv(jp(data_path, 'images.csv'), index_label='id')\n",
    "\n",
    "records = []\n",
    "for i, fname in enumerate(os.listdir(jp(data_path, 'contours'))):\n",
    "    _id = f'{dataset_name}_{i}'\n",
    "    records.append({'id': _id, 'image': f'contours/{fname}'})\n",
    "images = pd.DataFrame.from_records(records, index='id')\n",
    "images.to_csv(jp(data_path, 'contours.csv'), index_label='id')"
   ]
  },
  {
   "cell_type": "markdown",
   "metadata": {},
   "source": [
    "# DIV2K"
   ]
  },
  {
   "cell_type": "code",
   "execution_count": null,
   "metadata": {},
   "outputs": [],
   "source": [
    "# DIV2K is ok\n",
    "# TODO: metadata for subsampled images"
   ]
  },
  {
   "cell_type": "code",
   "execution_count": 4,
   "metadata": {},
   "outputs": [],
   "source": [
    "div2k_path = '/gpfs/gpfs0/b.shirokikh/data/SR/DIV2K/'"
   ]
  },
  {
   "cell_type": "code",
   "execution_count": 5,
   "metadata": {},
   "outputs": [],
   "source": [
    "dataset_name = 'DIV2K'\n",
    "data_path = div2k_path\n",
    "    \n",
    "records = []\n",
    "for i, fname in enumerate(os.listdir(jp(data_path, 'DIV2K_train_HR', 'DIV2K_train_HR'))):\n",
    "    _id = f'{dataset_name}_{i}'\n",
    "    records.append({'id': _id, 'image': f'DIV2K_train_HR/DIV2K_train_HR/{fname}', 'fold': 'train'})\n",
    "\n",
    "n_train = len(records)\n",
    "for i, fname in enumerate(os.listdir(jp(data_path, 'DIV2K_valid_HR', 'DIV2K_valid_HR'))):\n",
    "    _id = f'{dataset_name}_{i + n_train}'\n",
    "    records.append({'id': _id, 'image': f'DIV2K_valid_HR/DIV2K_valid_HR/{fname}', 'fold': 'valid'})\n",
    "\n",
    "images = pd.DataFrame.from_records(records, index='id')\n",
    "images.to_csv(jp(data_path, 'images.csv'), index_label='id')"
   ]
  },
  {
   "cell_type": "markdown",
   "metadata": {},
   "source": [
    "# Celeba"
   ]
  },
  {
   "cell_type": "code",
   "execution_count": null,
   "metadata": {},
   "outputs": [],
   "source": [
    "# Celeba is ok"
   ]
  },
  {
   "cell_type": "code",
   "execution_count": 7,
   "metadata": {},
   "outputs": [
    {
     "data": {
      "text/html": [
       "<div>\n",
       "<style scoped>\n",
       "    .dataframe tbody tr th:only-of-type {\n",
       "        vertical-align: middle;\n",
       "    }\n",
       "\n",
       "    .dataframe tbody tr th {\n",
       "        vertical-align: top;\n",
       "    }\n",
       "\n",
       "    .dataframe thead th {\n",
       "        text-align: right;\n",
       "    }\n",
       "</style>\n",
       "<table border=\"1\" class=\"dataframe\">\n",
       "  <thead>\n",
       "    <tr style=\"text-align: right;\">\n",
       "      <th></th>\n",
       "      <th>image_id</th>\n",
       "      <th>lefteye_x</th>\n",
       "      <th>lefteye_y</th>\n",
       "      <th>righteye_x</th>\n",
       "      <th>righteye_y</th>\n",
       "      <th>nose_x</th>\n",
       "      <th>nose_y</th>\n",
       "      <th>leftmouth_x</th>\n",
       "      <th>leftmouth_y</th>\n",
       "      <th>rightmouth_x</th>\n",
       "      <th>rightmouth_y</th>\n",
       "    </tr>\n",
       "  </thead>\n",
       "  <tbody>\n",
       "    <tr>\n",
       "      <th>0</th>\n",
       "      <td>000001.jpg</td>\n",
       "      <td>69</td>\n",
       "      <td>109</td>\n",
       "      <td>106</td>\n",
       "      <td>113</td>\n",
       "      <td>77</td>\n",
       "      <td>142</td>\n",
       "      <td>73</td>\n",
       "      <td>152</td>\n",
       "      <td>108</td>\n",
       "      <td>154</td>\n",
       "    </tr>\n",
       "    <tr>\n",
       "      <th>1</th>\n",
       "      <td>000002.jpg</td>\n",
       "      <td>69</td>\n",
       "      <td>110</td>\n",
       "      <td>107</td>\n",
       "      <td>112</td>\n",
       "      <td>81</td>\n",
       "      <td>135</td>\n",
       "      <td>70</td>\n",
       "      <td>151</td>\n",
       "      <td>108</td>\n",
       "      <td>153</td>\n",
       "    </tr>\n",
       "    <tr>\n",
       "      <th>2</th>\n",
       "      <td>000003.jpg</td>\n",
       "      <td>76</td>\n",
       "      <td>112</td>\n",
       "      <td>104</td>\n",
       "      <td>106</td>\n",
       "      <td>108</td>\n",
       "      <td>128</td>\n",
       "      <td>74</td>\n",
       "      <td>156</td>\n",
       "      <td>98</td>\n",
       "      <td>158</td>\n",
       "    </tr>\n",
       "    <tr>\n",
       "      <th>3</th>\n",
       "      <td>000004.jpg</td>\n",
       "      <td>72</td>\n",
       "      <td>113</td>\n",
       "      <td>108</td>\n",
       "      <td>108</td>\n",
       "      <td>101</td>\n",
       "      <td>138</td>\n",
       "      <td>71</td>\n",
       "      <td>155</td>\n",
       "      <td>101</td>\n",
       "      <td>151</td>\n",
       "    </tr>\n",
       "    <tr>\n",
       "      <th>4</th>\n",
       "      <td>000005.jpg</td>\n",
       "      <td>66</td>\n",
       "      <td>114</td>\n",
       "      <td>112</td>\n",
       "      <td>112</td>\n",
       "      <td>86</td>\n",
       "      <td>119</td>\n",
       "      <td>71</td>\n",
       "      <td>147</td>\n",
       "      <td>104</td>\n",
       "      <td>150</td>\n",
       "    </tr>\n",
       "  </tbody>\n",
       "</table>\n",
       "</div>"
      ],
      "text/plain": [
       "     image_id  lefteye_x  lefteye_y  righteye_x  righteye_y  nose_x  nose_y  \\\n",
       "0  000001.jpg         69        109         106         113      77     142   \n",
       "1  000002.jpg         69        110         107         112      81     135   \n",
       "2  000003.jpg         76        112         104         106     108     128   \n",
       "3  000004.jpg         72        113         108         108     101     138   \n",
       "4  000005.jpg         66        114         112         112      86     119   \n",
       "\n",
       "   leftmouth_x  leftmouth_y  rightmouth_x  rightmouth_y  \n",
       "0           73          152           108           154  \n",
       "1           70          151           108           153  \n",
       "2           74          156            98           158  \n",
       "3           71          155           101           151  \n",
       "4           71          147           104           150  "
      ]
     },
     "execution_count": 7,
     "metadata": {},
     "output_type": "execute_result"
    }
   ],
   "source": [
    "celeba_path = '/gpfs/gpfs0/b.shirokikh/data/SR/celeba/'\n",
    "\n",
    "# m = pd.read_csv(jp(celeba_path, 'list_attr_celeba.csv'))\n",
    "m = pd.read_csv(jp(celeba_path, 'list_landmarks_align_celeba.csv'))\n",
    "m.head()"
   ]
  },
  {
   "cell_type": "code",
   "execution_count": 8,
   "metadata": {},
   "outputs": [],
   "source": [
    "dataset_name = 'celeba'\n",
    "data_path = celeba_path\n",
    "    \n",
    "records = []\n",
    "for i, fname in enumerate(m['image_id'].values):\n",
    "    _id = f'{dataset_name}_{i}'\n",
    "    records.append({'id': _id, 'image': f'img_align_celeba/img_align_celeba/{fname}'})\n",
    "images = pd.DataFrame.from_records(records, index='id')\n",
    "images.to_csv(jp(data_path, 'images.csv'), index_label='id')"
   ]
  },
  {
   "cell_type": "markdown",
   "metadata": {},
   "source": [
    "# Flickr2K"
   ]
  },
  {
   "cell_type": "code",
   "execution_count": 9,
   "metadata": {},
   "outputs": [],
   "source": [
    "flickr2k_path = '/gpfs/gpfs0/b.shirokikh/data/SR/Flickr2K/'"
   ]
  },
  {
   "cell_type": "code",
   "execution_count": null,
   "metadata": {},
   "outputs": [],
   "source": [
    "dataset_name = 'Flickr2K'\n",
    "data_path = flickr2k_path\n",
    "    \n",
    "records = []\n",
    "for i, fname in enumerate(os.listdir(jp(data_path, 'Flickr2K_HR'))):\n",
    "    _id = f'{dataset_name}_{i}'\n",
    "    records.append({'id': _id, 'image': f'Flickr2K_HR/{fname}'})\n",
    "images = pd.DataFrame.from_records(records, index='id')\n",
    "images.to_csv(jp(data_path, 'images.csv'), index_label='id')"
   ]
  },
  {
   "cell_type": "code",
   "execution_count": null,
   "metadata": {},
   "outputs": [],
   "source": []
  }
 ],
 "metadata": {
  "kernelspec": {
   "display_name": "Python 3",
   "language": "python",
   "name": "python3"
  },
  "language_info": {
   "codemirror_mode": {
    "name": "ipython",
    "version": 3
   },
   "file_extension": ".py",
   "mimetype": "text/x-python",
   "name": "python",
   "nbconvert_exporter": "python",
   "pygments_lexer": "ipython3",
   "version": "3.7.6"
  }
 },
 "nbformat": 4,
 "nbformat_minor": 4
}
